{
 "cells": [
  {
   "cell_type": "markdown",
   "id": "53f3e651",
   "metadata": {},
   "source": [
    "#### MAE 598 - Homework #1 - Sebastian Garcia"
   ]
  },
  {
   "cell_type": "markdown",
   "id": "afed3fd6",
   "metadata": {},
   "source": [
    "\n",
    "Solve the following problem using Python SciPy.optimize. Please attach your code and results. Specify your initial guesses of the solution. If you change your initial guess, do you find different solutions? (100 points)\n",
    "\n",
    "$$\n",
    "\\begin{aligned}\n",
    "&amp;\\text{minimize:} &amp;&amp; (x_1-x_2)^2 + (x_2+x_3-2)^2 + (x_4-1)^2+(x_5-1)^2 \\\\\\\\\n",
    "&amp;\\text{subject to:} &amp;&amp; x_1 + 3x_2 = 0 \\\\\\\\\n",
    "&amp;&amp;&amp; x_3 + x_4 - 2x_5 = 0 \\\\\\\\\n",
    "&amp;&amp;&amp; x_2 - x_5 = 0 \\\\\\\\\n",
    "&amp;&amp;&amp; -10 \\leq x_i \\leq 10, \\~i=1,\\ldots,5\n",
    "\\end{aligned}$$\n",
    "Note:\n",
    "\n",
    "Please learn how to use break points to debug. I will not address your programming questions if you have not learned how to debug your code.\n",
    "\n",
    "I recommend PyCharm as the IDE. If you are new to Python, you can also start with Google Colab without installing anything.\n",
    "\n",
    "If you are on Windows, the Anaconda version of Python 3 is highly recommended.\n",
    "\n",
    "Here are the steps to push a homework submission:\n",
    "\n",
    "Clone the course repo: First click on Code to get the Git address (e.g., the HTTPS address). Then use your IDE to clone (download) the repo using this address. PyCharm tutorial on using Git.\n",
    "\n",
    "You will find the homework in the Homework folder.\n",
    "\n",
    "For analytical problems (e.g., proofs and calculations), please use Markdown to type up your answers. Markdown Math. For Latex users, you can convert tex to markdown using Pandoc.\n",
    "\n",
    "For coding problems, please submit a Jupyter Notebook file with your code and final results. You can also add a URL to your Jupyter or Colab Notebook in README.md if you use online notebooks.\n",
    "\n",
    "For each homework, please submit a single notebook file (or link) that combines the markdown solutions, the codes, and the computation results, and name the file according to the homework.\n",
    "\n",
    "IMPORTANT Please push (upload) the notebook file every time you work on the homework and add comments when you push, e.g., \"finished problem 1, still debugging problem 2\". This way I know you worked on your own.\n"
   ]
  },
  {
   "cell_type": "markdown",
   "id": "fcdac3b8",
   "metadata": {},
   "source": [
    "## Initial Guess = (0,0,0,0,0)"
   ]
  },
  {
   "cell_type": "code",
   "execution_count": 2,
   "id": "5ded6b4f",
   "metadata": {},
   "outputs": [
    {
     "name": "stdout",
     "output_type": "stream",
     "text": [
      "     fun: 4.093023255813954\n",
      "     jac: array([-2.04651159, -0.18604648, -2.23255813, -2.23255813, -1.48837209])\n",
      " message: 'Optimization terminated successfully'\n",
      "    nfev: 20\n",
      "     nit: 3\n",
      "    njev: 3\n",
      "  status: 0\n",
      " success: True\n",
      "       x: array([-0.76744186,  0.25581395,  0.62790698, -0.11627907,  0.25581395])\n"
     ]
    }
   ],
   "source": [
    "import scipy as sp\n",
    "from scipy.optimize import minimize\n",
    "\n",
    "f = lambda x: (x[0]-x[1])**2+(x[1]+x[2]-2)**2+(x[3]-1)**2+(x[4]-1)**2\n",
    "\n",
    "cons = ({'type':'eq','fun': lambda x: x[0]+3*x[1]},\n",
    "        {'type':'eq','fun': lambda x: x[2]+x[3]-2*x[4]},\n",
    "        {'type':'eq','fun': lambda x: x[1]-x[4]})\n",
    "bnds = ((-10,10),(-10,10),(-10,10),(-10,10),(-10,10))\n",
    "res = minimize(f,(0,0,0,0,0),bounds=bnds, constraints=cons)\n",
    "\n",
    "# minimum point of the function\n",
    "print(res)"
   ]
  },
  {
   "cell_type": "markdown",
   "id": "75ba5cf2",
   "metadata": {},
   "source": [
    "## Initial Guess = (1,1,1,1,1)"
   ]
  },
  {
   "cell_type": "code",
   "execution_count": 1,
   "id": "d0698e06",
   "metadata": {},
   "outputs": [
    {
     "name": "stdout",
     "output_type": "stream",
     "text": [
      "     fun: 4.09302326452976\n",
      "     jac: array([-2.04664832, -0.18578869, -2.23243701, -2.23257673, -1.48833793])\n",
      " message: 'Optimization terminated successfully'\n",
      "    nfev: 38\n",
      "     nit: 6\n",
      "    njev: 6\n",
      "  status: 0\n",
      " success: True\n",
      "       x: array([-0.76749312,  0.25583104,  0.62795044, -0.11628835,  0.25583104])\n"
     ]
    }
   ],
   "source": [
    "import scipy as sp\n",
    "from scipy.optimize import minimize\n",
    "\n",
    "f = lambda x: (x[0]-x[1])**2+(x[1]+x[2]-2)**2+(x[3]-1)**2+(x[4]-1)**2\n",
    "\n",
    "cons = ({'type':'eq','fun': lambda x: x[0]+3*x[1]},\n",
    "        {'type':'eq','fun': lambda x: x[2]+x[3]-2*x[4]},\n",
    "        {'type':'eq','fun': lambda x: x[1]-x[4]})\n",
    "bnds = ((-10,10),(-10,10),(-10,10),(-10,10),(-10,10))\n",
    "res = minimize(f,(1,1,1,1,1),bounds=bnds, constraints=cons)\n",
    "\n",
    "# minimum point of the function\n",
    "print(res)"
   ]
  },
  {
   "cell_type": "markdown",
   "id": "51b0116e",
   "metadata": {},
   "source": [
    "## Initial Guess = (-5,-1,-4,-7,-2)"
   ]
  },
  {
   "cell_type": "code",
   "execution_count": 2,
   "id": "308e1631",
   "metadata": {},
   "outputs": [
    {
     "name": "stdout",
     "output_type": "stream",
     "text": [
      "     fun: 4.093023258906614\n",
      "     jac: array([-2.04658973, -0.18589336, -2.23248315, -2.23257446, -1.48835254])\n",
      " message: 'Optimization terminated successfully'\n",
      "    nfev: 42\n",
      "     nit: 7\n",
      "    njev: 7\n",
      "  status: 0\n",
      " success: True\n",
      "       x: array([-0.76747116,  0.25582372,  0.62793468, -0.11628724,  0.25582372])\n"
     ]
    }
   ],
   "source": [
    "import scipy as sp\n",
    "from scipy.optimize import minimize\n",
    "\n",
    "f = lambda x: (x[0]-x[1])**2+(x[1]+x[2]-2)**2+(x[3]-1)**2+(x[4]-1)**2\n",
    "\n",
    "cons = ({'type':'eq','fun': lambda x: x[0]+3*x[1]},\n",
    "        {'type':'eq','fun': lambda x: x[2]+x[3]-2*x[4]},\n",
    "        {'type':'eq','fun': lambda x: x[1]-x[4]})\n",
    "bnds = ((-10,10),(-10,10),(-10,10),(-10,10),(-10,10))\n",
    "res = minimize(f,(-5,-1,-4,-7,-2),bounds=bnds, constraints=cons)\n",
    "\n",
    "# minimum point of the function\n",
    "print(res)"
   ]
  },
  {
   "cell_type": "markdown",
   "id": "81466f91",
   "metadata": {},
   "source": [
    "## Initial Guess = (-5,1,-4,7,-2)"
   ]
  },
  {
   "cell_type": "code",
   "execution_count": 3,
   "id": "2976d9a9",
   "metadata": {
    "scrolled": true
   },
   "outputs": [
    {
     "name": "stdout",
     "output_type": "stream",
     "text": [
      "     fun: 4.093023255813954\n",
      "     jac: array([-2.04651159, -0.18604642, -2.23255807, -2.23255813, -1.48837203])\n",
      " message: 'Optimization terminated successfully'\n",
      "    nfev: 37\n",
      "     nit: 6\n",
      "    njev: 6\n",
      "  status: 0\n",
      " success: True\n",
      "       x: array([-0.76744186,  0.25581395,  0.62790699, -0.11627908,  0.25581395])\n"
     ]
    }
   ],
   "source": [
    "import scipy as sp\n",
    "from scipy.optimize import minimize\n",
    "\n",
    "f = lambda x: (x[0]-x[1])**2+(x[1]+x[2]-2)**2+(x[3]-1)**2+(x[4]-1)**2\n",
    "\n",
    "cons = ({'type':'eq','fun': lambda x: x[0]+3*x[1]},\n",
    "        {'type':'eq','fun': lambda x: x[2]+x[3]-2*x[4]},\n",
    "        {'type':'eq','fun': lambda x: x[1]-x[4]})\n",
    "bnds = ((-10,10),(-10,10),(-10,10),(-10,10),(-10,10))\n",
    "res = minimize(f,(-5,1,-4,7,-2),bounds=bnds, constraints=cons)\n",
    "\n",
    "# minimum point of the function\n",
    "print(res)"
   ]
  },
  {
   "cell_type": "markdown",
   "id": "90f48bc1",
   "metadata": {},
   "source": [
    "## Initial Guess = (1,2,3,4,5)"
   ]
  },
  {
   "cell_type": "code",
   "execution_count": 1,
   "id": "e79c5c0b",
   "metadata": {},
   "outputs": [
    {
     "name": "stdout",
     "output_type": "stream",
     "text": [
      "     fun: 4.09302325588931\n",
      "     jac: array([-2.04579037, -0.18800253, -2.2337929 , -2.23186433, -1.48855239])\n",
      " message: 'Optimization terminated successfully'\n",
      "    nfev: 44\n",
      "     nit: 7\n",
      "    njev: 7\n",
      "  status: 0\n",
      " success: True\n",
      "       x: array([-0.76743912,  0.25581304,  0.62791188, -0.1162858 ,  0.25581304])\n"
     ]
    }
   ],
   "source": [
    "import scipy as sp\n",
    "from scipy.optimize import minimize\n",
    "\n",
    "f = lambda x: (x[0]-x[1])**2+(x[1]+x[2]-2)**2+(x[3]-1)**2+(x[4]-1)**2\n",
    "\n",
    "cons = ({'type':'eq','fun': lambda x: x[0]+3*x[1]},\n",
    "        {'type':'eq','fun': lambda x: x[2]+x[3]-2*x[4]},\n",
    "        {'type':'eq','fun': lambda x: x[1]-x[4]})\n",
    "bnds = ((-10,10),(-10,10),(-10,10),(-10,10),(-10,10))\n",
    "res = minimize(f,(1 , 2, 3, 4,5),bounds=bnds, constraints=cons)\n",
    "\n",
    "# minimum point of the function\n",
    "print(res)"
   ]
  },
  {
   "cell_type": "markdown",
   "id": "87767044",
   "metadata": {},
   "source": [
    "## Discussion from Results\n",
    "\n",
    "As seen above I tried 5 different initial guesses, each one with changes in magnitude and sign within the boundary conditions given in the problem. \n",
    "From the results of each run it is possible to determine that the minimum point does not change when the initial guess is within the boundary, there is a small fluctuation in the order of e-4 but this is due to the fact that python stops the run at a random value close to zero as professor Ren explained in the slack page.\n"
   ]
  }
 ],
 "metadata": {
  "kernelspec": {
   "display_name": "Python 3 (ipykernel)",
   "language": "python",
   "name": "python3"
  },
  "language_info": {
   "codemirror_mode": {
    "name": "ipython",
    "version": 3
   },
   "file_extension": ".py",
   "mimetype": "text/x-python",
   "name": "python",
   "nbconvert_exporter": "python",
   "pygments_lexer": "ipython3",
   "version": "3.9.4"
  }
 },
 "nbformat": 4,
 "nbformat_minor": 5
}
