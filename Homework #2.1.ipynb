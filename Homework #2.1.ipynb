{
 "cells": [
  {
   "cell_type": "markdown",
   "id": "5e3c3899",
   "metadata": {},
   "source": [
    "# MAE 598 - Homework #2\n",
    "Sebastian Garcia"
   ]
  },
  {
   "cell_type": "raw",
   "id": "f3808449",
   "metadata": {},
   "source": [
    "Problem 2A"
   ]
  },
  {
   "cell_type": "code",
   "execution_count": 18,
   "id": "26896bcc",
   "metadata": {
    "scrolled": false
   },
   "outputs": [
    {
     "data": {
      "text/plain": [
       "     fun: 0.07142857142857192\n",
       "     jac: array([ 0.00000000e+00, -7.45058060e-09,  5.58793545e-09])\n",
       " message: 'Optimization terminated successfully'\n",
       "    nfev: 21\n",
       "     nit: 5\n",
       "    njev: 5\n",
       "  status: 0\n",
       " success: True\n",
       "       x: array([-1.07142855, -0.14285714,  0.78571428])"
      ]
     },
     "execution_count": 18,
     "metadata": {},
     "output_type": "execute_result"
    }
   ],
   "source": [
    "import scipy as sp\n",
    "from scipy.optimize import minimize\n",
    "\n",
    "f = lambda x:  (1-2*x[1]-3*x[2]+1)**2+(x[1])**2+(x[2]-1)**2\n",
    "\n",
    "cons = {'type':'eq','fun': lambda x: (x[0]+2*x[1]+3*x[2]-1)}\n",
    "       \n",
    "res = minimize(f,(-1,0,1),method = 'SLSQP',constraints = cons)\n",
    "res\n",
    "\n"
   ]
  },
  {
   "cell_type": "markdown",
   "id": "b7ff01b7",
   "metadata": {},
   "source": [
    "Problem 2B\n"
   ]
  },
  {
   "cell_type": "code",
   "execution_count": null,
   "id": "ad6f6981",
   "metadata": {},
   "outputs": [],
   "source": []
  }
 ],
 "metadata": {
  "kernelspec": {
   "display_name": "Python 3 (ipykernel)",
   "language": "python",
   "name": "python3"
  },
  "language_info": {
   "codemirror_mode": {
    "name": "ipython",
    "version": 3
   },
   "file_extension": ".py",
   "mimetype": "text/x-python",
   "name": "python",
   "nbconvert_exporter": "python",
   "pygments_lexer": "ipython3",
   "version": "3.9.4"
  }
 },
 "nbformat": 4,
 "nbformat_minor": 5
}
