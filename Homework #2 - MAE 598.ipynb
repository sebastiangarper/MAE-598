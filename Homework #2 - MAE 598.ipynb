{
 "cells": [
  {
   "cell_type": "markdown",
   "id": "0ab5cbf4",
   "metadata": {},
   "source": [
    "MAE 598 - Homework #2 \n",
    "Sebastian Garcia Peralta\n",
    "1213082648\n"
   ]
  },
  {
   "cell_type": "code",
   "execution_count": 20,
   "id": "589ad54d",
   "metadata": {},
   "outputs": [
    {
     "ename": "ValueError",
     "evalue": "The truth value of an array with more than one element is ambiguous. Use a.any() or a.all()",
     "output_type": "error",
     "traceback": [
      "\u001b[1;31m---------------------------------------------------------------------------\u001b[0m",
      "\u001b[1;31mValueError\u001b[0m                                Traceback (most recent call last)",
      "\u001b[1;32m~\\AppData\\Local\\Temp/ipykernel_19860/2604898580.py\u001b[0m in \u001b[0;36m<module>\u001b[1;34m\u001b[0m\n\u001b[0;32m     35\u001b[0m     \u001b[1;32mreturn\u001b[0m \u001b[0mc\u001b[0m\u001b[1;33m\u001b[0m\u001b[1;33m\u001b[0m\u001b[0m\n\u001b[0;32m     36\u001b[0m \u001b[1;33m\u001b[0m\u001b[0m\n\u001b[1;32m---> 37\u001b[1;33m \u001b[1;32mwhile\u001b[0m \u001b[0merror\u001b[0m \u001b[1;33m>=\u001b[0m \u001b[0meps\u001b[0m\u001b[1;33m:\u001b[0m  \u001b[1;31m# keep searching while gradient norm is larger than eps\u001b[0m\u001b[1;33m\u001b[0m\u001b[1;33m\u001b[0m\u001b[0m\n\u001b[0m\u001b[0;32m     38\u001b[0m     \u001b[0ma\u001b[0m \u001b[1;33m=\u001b[0m \u001b[0mline_search\u001b[0m\u001b[1;33m(\u001b[0m\u001b[0mx\u001b[0m\u001b[1;33m)\u001b[0m\u001b[1;33m\u001b[0m\u001b[1;33m\u001b[0m\u001b[0m\n\u001b[0;32m     39\u001b[0m     \u001b[0mx\u001b[0m \u001b[1;33m=\u001b[0m \u001b[0mx\u001b[0m \u001b[1;33m-\u001b[0m \u001b[0ma\u001b[0m\u001b[1;33m*\u001b[0m\u001b[0mgrad\u001b[0m\u001b[1;33m(\u001b[0m\u001b[0mx\u001b[0m\u001b[1;33m)\u001b[0m\u001b[1;33m\u001b[0m\u001b[1;33m\u001b[0m\u001b[0m\n",
      "\u001b[1;31mValueError\u001b[0m: The truth value of an array with more than one element is ambiguous. Use a.any() or a.all()"
     ]
    }
   ],
   "source": [
    "# sample code for Problem 2\n",
    "import numpy as np\n",
    "obj = lambda x,y,z: (x + 1)**2+y**2+(z-1)**2  # note that this is 1D. In Prob 2 it should be 2D.\n",
    "grad = lambda x,y,z: np.array([[10*y+12*z-8],\n",
    "    [20*z+12*y-10]]) # this is not the correct gradient!\n",
    "eps = [1e-3,1e-3,1e-3]  # termination criterion\n",
    "[x0,y0,z0] = np.array([0,0,0])  # initial guess\n",
    "k = 0  # counter\n",
    "soln = np.array([x0,y0,z0])  # use an array to store the search steps\n",
    "x = soln[k]\n",
    "y = soln[k]\n",
    "z = soln[k]# start with the initial guess\n",
    "error = abs(grad(x,y,z))  # compute the error. Note you will need to compute the norm for 2D grads, rather than the absolute value\n",
    "# a = 0.01  # set a fixed step size to start with\n",
    "\n",
    "# Armijo line search\n",
    "def line_search(x):\n",
    "    a = 1.  # initialize step size\n",
    "    phi = lambda a, x: obj(x) - a*0.8*grad(x)**2  # define phi as a search criterion\n",
    "    while phi(a,x)<obj(x-a*grad(x)):  # if f(x+a*d)>phi(a) then backtrack. d is the search direction\n",
    "        a = 0.5*a\n",
    "    return a\n",
    "\n",
    "def line_search(y):\n",
    "    b = 1.  # initialize step size\n",
    "    phi = lambda b, y: obj(y) - b*0.8*grad(y)**2  # define phi as a search criterion\n",
    "    while phi(b,y)<obj(y-b*grad(y)):  # if f(x+a*d)>phi(a) then backtrack. d is the search direction\n",
    "        b = 0.5*b\n",
    "    return b\n",
    "def line_search(z):\n",
    "    c = 1.  # initialize step size\n",
    "    phi = lambda c, z: obj(z) - c*0.8*grad(z)**2  # define phi as a search criterion\n",
    "    while phi(c,z)<obj(z-c*grad(z)):  # if f(x+a*d)>phi(a) then backtrack. d is the search direction\n",
    "        c = 0.5*c\n",
    "    return c\n",
    "\n",
    "while error >= eps:  # keep searching while gradient norm is larger than eps\n",
    "    a = line_search(x)\n",
    "    x = x - a*grad(x)\n",
    "    soln.append(x)\n",
    "    error = abs(grad(x))\n",
    "    \n",
    "soln  # print the search trajectory\n"
   ]
  },
  {
   "cell_type": "code",
   "execution_count": null,
   "id": "fc3af744",
   "metadata": {},
   "outputs": [],
   "source": []
  }
 ],
 "metadata": {
  "kernelspec": {
   "display_name": "Python 3 (ipykernel)",
   "language": "python",
   "name": "python3"
  },
  "language_info": {
   "codemirror_mode": {
    "name": "ipython",
    "version": 3
   },
   "file_extension": ".py",
   "mimetype": "text/x-python",
   "name": "python",
   "nbconvert_exporter": "python",
   "pygments_lexer": "ipython3",
   "version": "3.9.4"
  }
 },
 "nbformat": 4,
 "nbformat_minor": 5
}
