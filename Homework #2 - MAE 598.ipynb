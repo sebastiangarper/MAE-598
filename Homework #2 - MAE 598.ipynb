{
 "cells": [
  {
   "cell_type": "markdown",
   "id": "a498d683",
   "metadata": {},
   "source": [
    "MAE 598 - Homework #2 \n",
    "Sebastian Garcia Peralta\n",
    "1213082648\n"
   ]
  },
  {
   "cell_type": "code",
   "execution_count": 1,
   "id": "d645bee1",
   "metadata": {},
   "outputs": [
    {
     "data": {
      "text/plain": [
       "[0.0,\n",
       " 0.25,\n",
       " 0.4375,\n",
       " 0.578125,\n",
       " 0.68359375,\n",
       " 0.7626953125,\n",
       " 0.822021484375,\n",
       " 0.86651611328125,\n",
       " 0.8998870849609375,\n",
       " 0.9249153137207031,\n",
       " 0.9436864852905273,\n",
       " 0.9577648639678955,\n",
       " 0.9683236479759216,\n",
       " 0.9762427359819412,\n",
       " 0.9821820519864559,\n",
       " 0.9866365389898419,\n",
       " 0.9899774042423815,\n",
       " 0.9924830531817861,\n",
       " 0.9943622898863396,\n",
       " 0.9957717174147547,\n",
       " 0.996828788061066,\n",
       " 0.9976215910457995,\n",
       " 0.9982161932843496,\n",
       " 0.9986621449632622,\n",
       " 0.9989966087224467,\n",
       " 0.999247456541835,\n",
       " 0.9994355924063762,\n",
       " 0.9995766943047821]"
      ]
     },
     "execution_count": 1,
     "metadata": {},
     "output_type": "execute_result"
    }
   ],
   "source": [
    "# sample code for Problem 2\n",
    "\n",
    "obj = lambda x: (x - 1)**2  # note that this is 1D. In Prob 2 it should be 2D.\n",
    "grad = lambda x: 2*(x - 1)  # this is not the correct gradient!\n",
    "eps = 1e-3  # termination criterion\n",
    "x0 = 0.  # initial guess\n",
    "k = 0  # counter\n",
    "soln = [x0]  # use an array to store the search steps\n",
    "x = soln[k]  # start with the initial guess\n",
    "error = abs(grad(x))  # compute the error. Note you will need to compute the norm for 2D grads, rather than the absolute value\n",
    "# a = 0.01  # set a fixed step size to start with\n",
    "\n",
    "# Armijo line search\n",
    "def line_search(x):\n",
    "    a = 1.  # initialize step size\n",
    "    phi = lambda a, x: obj(x) - a*0.8*grad(x)**2  # define phi as a search criterion\n",
    "    while phi(a,x)<obj(x-a*grad(x)):  # if f(x+a*d)>phi(a) then backtrack. d is the search direction\n",
    "        a = 0.5*a\n",
    "    return a\n",
    "\n",
    "while error >= eps:  # keep searching while gradient norm is larger than eps\n",
    "    a = line_search(x)\n",
    "    x = x - a*grad(x)\n",
    "    soln.append(x)\n",
    "    error = abs(grad(x))\n",
    "    \n",
    "soln  # print the search trajectory\n"
   ]
  },
  {
   "cell_type": "code",
   "execution_count": null,
   "id": "e70da5ad",
   "metadata": {},
   "outputs": [],
   "source": []
  }
 ],
 "metadata": {
  "kernelspec": {
   "display_name": "Python 3 (ipykernel)",
   "language": "python",
   "name": "python3"
  },
  "language_info": {
   "codemirror_mode": {
    "name": "ipython",
    "version": 3
   },
   "file_extension": ".py",
   "mimetype": "text/x-python",
   "name": "python",
   "nbconvert_exporter": "python",
   "pygments_lexer": "ipython3",
   "version": "3.9.4"
  }
 },
 "nbformat": 4,
 "nbformat_minor": 5
}
